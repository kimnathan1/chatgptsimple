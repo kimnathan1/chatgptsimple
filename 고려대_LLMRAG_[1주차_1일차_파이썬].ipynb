{
  "nbformat": 4,
  "nbformat_minor": 0,
  "metadata": {
    "colab": {
      "provenance": [],
      "include_colab_link": true
    },
    "kernelspec": {
      "name": "python3",
      "display_name": "Python 3"
    },
    "language_info": {
      "name": "python"
    }
  },
  "cells": [
    {
      "cell_type": "markdown",
      "metadata": {
        "id": "view-in-github",
        "colab_type": "text"
      },
      "source": [
        "<a href=\"https://colab.research.google.com/github/kimnathan1/chatgptsimple/blob/main/%EA%B3%A0%EB%A0%A4%EB%8C%80_LLMRAG_%5B1%EC%A3%BC%EC%B0%A8_1%EC%9D%BC%EC%B0%A8_%ED%8C%8C%EC%9D%B4%EC%8D%AC%5D.ipynb\" target=\"_parent\"><img src=\"https://colab.research.google.com/assets/colab-badge.svg\" alt=\"Open In Colab\"/></a>"
      ]
    },
    {
      "cell_type": "code",
      "execution_count": null,
      "metadata": {
        "id": "tOmTMZmANzxH",
        "colab": {
          "base_uri": "https://localhost:8080/"
        },
        "outputId": "d9f462d0-0083-494f-bbf9-009887dba1e9"
      },
      "outputs": [
        {
          "output_type": "stream",
          "name": "stdout",
          "text": [
            "hello world\n"
          ]
        }
      ],
      "source": [
        "# 윈도우 ctrl + enter\n",
        "# 맥 shift + enter\n",
        "print('hello world')"
      ]
    },
    {
      "cell_type": "code",
      "source": [
        "name = \"홍길동\" # 문자열은 큰따옴표로 사용할 수 있습니다.\n",
        "name2 = '임꺽정' # 문자열은 작은따옴표로 사용할 수 있습니다.\n",
        "height = 172.5 # 소수형(실수형)은 정수뒤에 소수점이 나옵니다.\n",
        "age = 30 # 정수형은 정수뒤에 소수점이 없는 깔끔한 숫자입니다.\n",
        "student = True # 불린형 True = 1\n",
        "teacher = False # 불린형 False = 0\n",
        "\n",
        "# 파이썬은 변수의 구분을 보통 콤마로 합니다.\n",
        "# 변수의 이름 (name, name2) 은 파이썬에서 입력 또는 출력을 하거나 계산을 할때 사용할 수 있구나\n",
        "print(name, name2, height, age, student, teacher)"
      ],
      "metadata": {
        "id": "h7i8VClOO9Xv",
        "colab": {
          "base_uri": "https://localhost:8080/"
        },
        "outputId": "fa4ef8e9-b0f4-452f-cda2-f893edd3aa7d"
      },
      "execution_count": null,
      "outputs": [
        {
          "output_type": "stream",
          "name": "stdout",
          "text": [
            "홍길동 임꺽정 172.5 30 True False\n"
          ]
        }
      ]
    },
    {
      "cell_type": "code",
      "source": [
        "# 변수의 값이 바뀌면 동한 / 재훈 / 현아 / 현성\n",
        "# 동한 -> 파이썬에 대해서 알려줘 -> 출력 -> 파이썬...\n",
        "# 재훈 -> 파이썬에 대해서 알려줘 -> 출력 -> 대표적인 프로그래밍...\n",
        "\n",
        "# chatgpt 똑같은 말을 적어도, 랜덤으로 값을 출력해라\n",
        "\n",
        "age = 50\n",
        "print(age)"
      ],
      "metadata": {
        "colab": {
          "base_uri": "https://localhost:8080/"
        },
        "id": "4a8QACjyYVTR",
        "outputId": "cef6f74a-821a-4f28-f2a4-5ec62b2f0062"
      },
      "execution_count": null,
      "outputs": [
        {
          "output_type": "stream",
          "name": "stdout",
          "text": [
            "50\n"
          ]
        }
      ]
    },
    {
      "cell_type": "code",
      "source": [
        "# f-string 파이썬 3.6이상부터 적용된 문법\n",
        "# print(name, name2, height, age, student, teacher)\n",
        "# f-string은\n",
        "# 1) print()안에 맨 앞에 f를 붙인다.\n",
        "# 2) 변수는 중괄호{}로 묶는다.\n",
        "# 3) 그외에 일반 텍스트는 그냥 적는다. 따옴표 안에\n",
        "\n",
        "print(f'안녕하세요 {name} 입니다. {height}, {age}')"
      ],
      "metadata": {
        "colab": {
          "base_uri": "https://localhost:8080/"
        },
        "id": "ZarF16enZVQ0",
        "outputId": "810159c3-1a7e-4737-e896-2160c12ee3ab"
      },
      "execution_count": null,
      "outputs": [
        {
          "output_type": "stream",
          "name": "stdout",
          "text": [
            "안녕하세요 홍길동 입니다. 172.5, 50\n"
          ]
        }
      ]
    },
    {
      "cell_type": "code",
      "source": [
        "# 1) 변수\n",
        "# 2) f-string print문\n",
        "\n",
        "name = '김진환'\n",
        "hobby = '데이터 분석'\n",
        "\n",
        "print(f'안녕하세요 {name}입니다. 제 취미는 {hobby}입니다.')"
      ],
      "metadata": {
        "colab": {
          "base_uri": "https://localhost:8080/"
        },
        "id": "puxY_r43avhi",
        "outputId": "958c79a1-303d-487c-abcb-6bdfbe79349b"
      },
      "execution_count": null,
      "outputs": [
        {
          "output_type": "stream",
          "name": "stdout",
          "text": [
            "안녕하세요 김진환입니다. 제 취미는 데이터 분석입니다.\n"
          ]
        }
      ]
    },
    {
      "cell_type": "code",
      "source": [
        "# 2. input을 활용한 자기소개\n",
        "# 입력 될때까지 수행이 지속됨\n",
        "\n",
        "name = input(\"이름은 무엇인가요? : \")"
      ],
      "metadata": {
        "id": "qwMGJmURbmOF",
        "colab": {
          "base_uri": "https://localhost:8080/"
        },
        "outputId": "5469d07a-819b-443e-8666-cef678c13142"
      },
      "execution_count": null,
      "outputs": [
        {
          "name": "stdout",
          "output_type": "stream",
          "text": [
            "이름은 무엇인가요? : 김진환\n"
          ]
        }
      ]
    },
    {
      "cell_type": "code",
      "source": [
        "print(name)"
      ],
      "metadata": {
        "colab": {
          "base_uri": "https://localhost:8080/"
        },
        "id": "nKxthIU-xjmC",
        "outputId": "74e0e3be-5301-47f1-cc00-582026d4b2ec"
      },
      "execution_count": null,
      "outputs": [
        {
          "output_type": "stream",
          "name": "stdout",
          "text": [
            "김진환\n"
          ]
        }
      ]
    },
    {
      "cell_type": "code",
      "source": [
        "hobby = input(\"취미는 무엇인가요? :\")"
      ],
      "metadata": {
        "colab": {
          "base_uri": "https://localhost:8080/"
        },
        "id": "BlGcZA6IxrDt",
        "outputId": "c86a0397-41f7-474d-87ab-166316fe4fb8"
      },
      "execution_count": null,
      "outputs": [
        {
          "name": "stdout",
          "output_type": "stream",
          "text": [
            "취미는 무엇인가요? :등산\n"
          ]
        }
      ]
    },
    {
      "cell_type": "code",
      "source": [
        "print(hobby)"
      ],
      "metadata": {
        "colab": {
          "base_uri": "https://localhost:8080/"
        },
        "id": "Us1FFl7Gxw0K",
        "outputId": "7a29c616-f268-443f-b559-77e71e1c4b59"
      },
      "execution_count": null,
      "outputs": [
        {
          "output_type": "stream",
          "name": "stdout",
          "text": [
            "등산\n"
          ]
        }
      ]
    },
    {
      "cell_type": "code",
      "source": [
        "height = int(input('키는 얼마나 되시나요?'))"
      ],
      "metadata": {
        "colab": {
          "base_uri": "https://localhost:8080/"
        },
        "id": "cqb4b2ExxyZS",
        "outputId": "87572239-7276-4983-f27d-808aad083514"
      },
      "execution_count": null,
      "outputs": [
        {
          "name": "stdout",
          "output_type": "stream",
          "text": [
            "키는 얼마나 되시나요?183\n"
          ]
        }
      ]
    },
    {
      "cell_type": "code",
      "source": [
        "print(height)"
      ],
      "metadata": {
        "colab": {
          "base_uri": "https://localhost:8080/"
        },
        "id": "gXs-UQIDx4iR",
        "outputId": "4296fdd0-0b6c-4f9d-9994-fa80df999e0f"
      },
      "execution_count": null,
      "outputs": [
        {
          "output_type": "stream",
          "name": "stdout",
          "text": [
            "183\n"
          ]
        }
      ]
    },
    {
      "cell_type": "code",
      "source": [
        "# 1) 서로 다른 자료형은 덧셈이 되지 않는다.\n",
        "# 2) 문자형의 합은 그 문자가 서로 합쳐지는 효과를 발생한다.\n",
        "# 3) 숫자형으로 변경해야하만 우리가 아는 사칙연산을 할 수 있게 된다.\n",
        "print(height + '1')"
      ],
      "metadata": {
        "colab": {
          "base_uri": "https://localhost:8080/"
        },
        "id": "VnXojSRLySg-",
        "outputId": "6be51e02-c8ff-40ce-d3da-0c40dae3376c"
      },
      "execution_count": null,
      "outputs": [
        {
          "output_type": "stream",
          "name": "stdout",
          "text": [
            "1831\n"
          ]
        }
      ]
    },
    {
      "cell_type": "code",
      "source": [
        "# 해당 변수의 특성을 확인할 수 있습니다.\n",
        "# str = 문자열 / int = 정수형 / float = 소수형 / bool = 불린형\n",
        "type(height)"
      ],
      "metadata": {
        "colab": {
          "base_uri": "https://localhost:8080/"
        },
        "id": "fhwA9uw0x6Y1",
        "outputId": "20d3738c-934e-4837-c4fc-d2d5d30252a7"
      },
      "execution_count": null,
      "outputs": [
        {
          "output_type": "execute_result",
          "data": {
            "text/plain": [
              "int"
            ]
          },
          "metadata": {},
          "execution_count": 16
        }
      ]
    },
    {
      "cell_type": "code",
      "source": [
        "# 실습 3. 2가지 값을 받는 계산기 만들기\n",
        "\n",
        "a = int(input(\"첫 번째 숫자를 입력하세요: \"))\n",
        "b = int(input(\"두 번째 숫자를 입력하세요: \"))"
      ],
      "metadata": {
        "colab": {
          "base_uri": "https://localhost:8080/"
        },
        "id": "Op_LfKMWzAuh",
        "outputId": "c742777b-f110-4c0a-d714-469bfe9104dc"
      },
      "execution_count": null,
      "outputs": [
        {
          "name": "stdout",
          "output_type": "stream",
          "text": [
            "첫 번째 숫자를 입력하세요: 3\n",
            "두 번째 숫자를 입력하세요: 5\n"
          ]
        }
      ]
    },
    {
      "cell_type": "code",
      "source": [
        "print(f\"덧셈 : 첫번째 입력값 : {a}, 두번째 입력값 : {b} = {a + b}입니다.\")\n",
        "print(f\"뺄셈 : 첫번째 입력값 : {a}, 두번째 입력값 : {b} = {a - b}입니다.\")\n",
        "print(f\"곱셉 : 첫번째 입력값 : {a}, 두번째 입력값 : {b} = {a * b}입니다.\")\n",
        "# 정수 / 정수 -> 소수형(float)\n",
        "# 소수점에 대한 부분을 다루기 위해서 :(콜론) :.2f -> 소수점 2자리까지 계산\n",
        "print(f\"나눗셈 : 첫번째 입력값 : {a}, 두번째 입력값 : {b} = {a / b:.2f}입니다.\")\n",
        "# 3.4059304932304932\n",
        "# 3.01 * e-10\n"
      ],
      "metadata": {
        "colab": {
          "base_uri": "https://localhost:8080/"
        },
        "id": "NJmFAfOEx8Gx",
        "outputId": "2caf964b-e587-4b41-c65e-d8cc81a4eb94"
      },
      "execution_count": null,
      "outputs": [
        {
          "output_type": "stream",
          "name": "stdout",
          "text": [
            "덧셈 : 첫번째 입력값 : 3, 두번째 입력값 : 5 = 8입니다.\n",
            "뺄셈 : 첫번째 입력값 : 3, 두번째 입력값 : 5 = -2입니다.\n",
            "곱셉 : 첫번째 입력값 : 3, 두번째 입력값 : 5 = 15입니다.\n",
            "나눗셈 : 첫번째 입력값 : 3, 두번째 입력값 : 5 = 0.60입니다.\n"
          ]
        }
      ]
    },
    {
      "cell_type": "code",
      "source": [
        "# 예제 3\n",
        "title = \"Python\"\n",
        "score = 95.678\n",
        "\n",
        "print(f\"{'과목':<8} | {'점수':>8}\")\n",
        "print(\"-\" * 20)\n",
        "print(f\"{title:<8} | {score:>8.2f}\")"
      ],
      "metadata": {
        "colab": {
          "base_uri": "https://localhost:8080/"
        },
        "id": "E1KpbRZLzv5R",
        "outputId": "bb5dd4ce-fe77-4476-976a-df844d520bb0"
      },
      "execution_count": null,
      "outputs": [
        {
          "output_type": "stream",
          "name": "stdout",
          "text": [
            "과목       |       점수\n",
            "--------------------\n",
            "Python   |    95.68\n"
          ]
        }
      ]
    },
    {
      "cell_type": "code",
      "source": [
        "if 조건식1:\n",
        "  print(\"조건식 1이 참이면 print문을 수행해라\")\n",
        "elif 조건식2:\n",
        "  print2(\"조건식 1이 참이 아닌 상태에서 조건식 2가 참이면 print2문을 수행해라\")\n",
        "else:\n",
        "  print3('조건식 1도아니고 2도 아닌상태에서 나머지는 모두 print3을 수행하라')"
      ],
      "metadata": {
        "id": "cRYJgSXs2BVE"
      },
      "execution_count": null,
      "outputs": []
    },
    {
      "cell_type": "code",
      "source": [
        "# 조건문 1 - 성적관련 조건문\n",
        "# 조건 - 90점 이상 - A / 80점 ~ 90미만 - B / 70 ~ 80점 - C / 그외는 - D\n",
        "\n",
        "score = 85\n",
        "\n",
        "# if 변수명 (연산자 + 조건):\n",
        "    # 들여쓰기는 스페이스바 4번입니다. 4칸\n",
        "\n",
        "# 1번째 if와 else만 있는 조건문\n",
        "if score >= 90:\n",
        "    print('A학점 입니다.')\n",
        "else:\n",
        "    print('B학점 입니다.')"
      ],
      "metadata": {
        "colab": {
          "base_uri": "https://localhost:8080/"
        },
        "id": "PfqbM5zOBV3S",
        "outputId": "364f5f5b-9a57-4362-a9c0-40b96d76240c"
      },
      "execution_count": null,
      "outputs": [
        {
          "output_type": "stream",
          "name": "stdout",
          "text": [
            "B학점 입니다.\n"
          ]
        }
      ]
    },
    {
      "cell_type": "code",
      "source": [
        "# 조건문은 조건에 맞으면 들여쓰기 부분이 실행된다.\n",
        "score = 92"
      ],
      "metadata": {
        "id": "Jri9JGhrDR2i"
      },
      "execution_count": null,
      "outputs": []
    },
    {
      "cell_type": "code",
      "source": [
        "# 작은따옴표로 시작되면 작은따옴표로 끝나야 되고\n",
        "# 큰따옴표로 시작되면 큰따옴표로 끝나야 됩니다."
      ],
      "metadata": {
        "id": "pKBWDwWvEDXb"
      },
      "execution_count": null,
      "outputs": []
    },
    {
      "cell_type": "code",
      "source": [
        "# 조건이 늘어나면 elif만 추가하면 된다.\n",
        "if score >= 90:\n",
        "    print(\"A학점 입니다.\")\n",
        "elif score >= 80: # (연속되는 숫자일때) 위에서 적었던 조건은 자동으로 적용!\n",
        "    print('B학점 입니다.')\n",
        "elif score >= 70:\n",
        "    print(\"C학점 입니다.\")\n",
        "else:\n",
        "    print(\"D학점 입니다.\")"
      ],
      "metadata": {
        "colab": {
          "base_uri": "https://localhost:8080/"
        },
        "id": "whjZIjL1CyNo",
        "outputId": "64f692c6-76e6-4faf-fd41-79bca76f58ae"
      },
      "execution_count": null,
      "outputs": [
        {
          "output_type": "stream",
          "name": "stdout",
          "text": [
            "A학점 입니다.\n"
          ]
        }
      ]
    },
    {
      "cell_type": "code",
      "source": [
        "# 문자열 조건문\n",
        "\n",
        "name = '김진환'\n",
        "print(name)"
      ],
      "metadata": {
        "colab": {
          "base_uri": "https://localhost:8080/"
        },
        "id": "sfGmYXtgEXhf",
        "outputId": "1afb07ef-5683-4e2f-890c-b402d3a5cb67"
      },
      "execution_count": null,
      "outputs": [
        {
          "output_type": "stream",
          "name": "stdout",
          "text": [
            "김진환\n"
          ]
        }
      ]
    },
    {
      "cell_type": "code",
      "source": [
        "# 문자열은 숫자처럼 크다, 작다를 구분할 수 없기 때문에 같다. 또는 같지 않다로 조건을 걸고 비교를 한다."
      ],
      "metadata": {
        "id": "5kEOg5HiEj7s"
      },
      "execution_count": null,
      "outputs": []
    },
    {
      "cell_type": "code",
      "source": [
        "# 문자열의 주의점 - 어떻게 해야 조건 안에 내가 조건을 걸고싶은 텍스트만 출력되게 할 수 있는가?\n",
        "if name == '김진환':\n",
        "    print('반갑습니다. 김진환님')"
      ],
      "metadata": {
        "colab": {
          "base_uri": "https://localhost:8080/"
        },
        "id": "Tm92gOThDQyg",
        "outputId": "920aa46f-6548-4f49-deef-fdf1403d39cd"
      },
      "execution_count": null,
      "outputs": [
        {
          "output_type": "stream",
          "name": "stdout",
          "text": [
            "반갑습니다. 김진환님\n"
          ]
        }
      ]
    },
    {
      "cell_type": "code",
      "source": [
        "# 실습 - and or의 차이점 - 둘다 충족할때의 and - True\n",
        "\n",
        "age = 25\n",
        "country = 'korea'\n",
        "\n",
        "# and -> 두가지 조건 모두 참일때 -> 참이다.\n",
        "if (age >= 20) and (country == 'korea'):\n",
        "    print('성인 한국인 입니다.')\n",
        "else:\n",
        "    print('조건에 해당하지 않습니다.')"
      ],
      "metadata": {
        "colab": {
          "base_uri": "https://localhost:8080/"
        },
        "id": "uXZVnZt7EhJg",
        "outputId": "503aa18a-cc65-4b3c-d4fb-286a01bff2fe"
      },
      "execution_count": null,
      "outputs": [
        {
          "output_type": "stream",
          "name": "stdout",
          "text": [
            "성인 한국인 입니다.\n"
          ]
        }
      ]
    },
    {
      "cell_type": "code",
      "source": [
        "# 실습 - and or의 차이점 - 1개만 충족할때의 and - False\n",
        "\n",
        "age = 15\n",
        "country = 'korea'\n",
        "\n",
        "# and -> 두가지 조건 모두 참일때 -> 참이다.\n",
        "if (age >= 20) and (country == 'korea'):\n",
        "    print('성인 한국인 입니다.')\n",
        "else:\n",
        "    print('조건에 해당하지 않습니다.')"
      ],
      "metadata": {
        "id": "CHIRjB5wGIh7"
      },
      "execution_count": null,
      "outputs": []
    },
    {
      "cell_type": "code",
      "source": [
        "# 실습 - and or의 차이점 - 1개만 충족할때의 or - True\n",
        "\n",
        "age = 15\n",
        "country = 'korea'\n",
        "\n",
        "# and -> 두가지 조건 모두 참일때 -> 참이다.\n",
        "if (age >= 20) or (country == 'korea'):\n",
        "    print('성인 한국인 입니다.')\n",
        "else:\n",
        "    print('조건에 해당하지 않습니다.')"
      ],
      "metadata": {
        "id": "0uvpA-X3GQc1"
      },
      "execution_count": null,
      "outputs": []
    },
    {
      "cell_type": "code",
      "source": [
        "# 로그인 검사 로직\n",
        "# 운영자 계정\n",
        "user_id = 'admin'\n",
        "user_pw = '1234'\n",
        "\n",
        "id_input = input(\"아이디를 입력하세요: \")\n",
        "pw_input = input('password를 입력하세요')\n",
        "\n",
        "if id_input == user_id and pw_input == user_pw:\n",
        "    print('로그인 완료')\n",
        "else:\n",
        "    print('로그인 실패, 아이디 또는 패스워드를 확인하세요.')"
      ],
      "metadata": {
        "colab": {
          "base_uri": "https://localhost:8080/"
        },
        "id": "YyAZ5UPZG8sH",
        "outputId": "0bfbd567-82bd-4296-e7fc-bac63121f40e"
      },
      "execution_count": null,
      "outputs": [
        {
          "output_type": "stream",
          "name": "stdout",
          "text": [
            "아이디를 입력하세요: admin\n",
            "password를 입력하세요2345\n",
            "로그인 실패, 아이디 또는 패스워드를 확인하세요.\n"
          ]
        }
      ]
    },
    {
      "cell_type": "code",
      "source": [
        "# 변수 컴퓨터가 인식하는 적용 순서"
      ],
      "metadata": {
        "id": "7it6FbjsOd7B"
      },
      "execution_count": null,
      "outputs": []
    },
    {
      "cell_type": "code",
      "source": [
        "role = input(\"당신의 역할을 입력하세요 (student/teacher/admin): \")\n",
        "\n",
        "if role == \"student\":\n",
        "    print(\"📚 학생 모드입니다. 과제를 제출할 수 있습니다.\")\n",
        "elif role == \"teacher\":\n",
        "    print(\"🧑‍🏫 교사 모드입니다. 학생 점수를 관리할 수 있습니다.\")\n",
        "elif role == \"admin\":\n",
        "    print(\"💻 관리자 모드입니다. 시스템 설정을 변경할 수 있습니다.\")\n",
        "else:\n",
        "    print(\"❌ 알 수 없는 역할입니다. 다시 입력해주세요.\")"
      ],
      "metadata": {
        "colab": {
          "base_uri": "https://localhost:8080/"
        },
        "id": "xDiKWfZdK5nq",
        "outputId": "949079aa-1338-4c5b-d36b-5100d9f09cac"
      },
      "execution_count": null,
      "outputs": [
        {
          "output_type": "stream",
          "name": "stdout",
          "text": [
            "당신의 역할을 입력하세요 (student/teacher/admin): admin\n",
            "💻 관리자 모드입니다. 시스템 설정을 변경할 수 있습니다.\n"
          ]
        }
      ]
    },
    {
      "cell_type": "code",
      "source": [
        "# 반복문 기초\n",
        "\n",
        "# 1. 파이썬은 숫자의 시작이 0부터 시작한다.\n",
        "# 2. 파이썬에서는 구문을 줄일수 있다. range(5) == range(0,5,1)\n",
        "# 3. i는 이름을 원하는대로 변경할 수 있다.\n",
        "# 4, for in은 고정!\n",
        "\n",
        "for i in range(5):\n",
        "    print(i)"
      ],
      "metadata": {
        "colab": {
          "base_uri": "https://localhost:8080/"
        },
        "id": "UJ-fU0y2NoOX",
        "outputId": "ba8c5d2e-b439-4f9b-9942-1d6f0675749f"
      },
      "execution_count": null,
      "outputs": [
        {
          "output_type": "stream",
          "name": "stdout",
          "text": [
            "0\n",
            "1\n",
            "2\n",
            "3\n",
            "4\n"
          ]
        }
      ]
    },
    {
      "cell_type": "code",
      "source": [
        "# 반복문 기초\n",
        "# range(start,stop,step)\n",
        "# start 는 0부터 시작한다.(start에 아무것도 적지 않았을 경우) , stop에서 -1까지 출력이 된다.\n",
        "# step은 얼마나 띄워서 출력할지를 정하는 것이다.\n",
        "for i in range(0,5,1):\n",
        "    print(i)"
      ],
      "metadata": {
        "colab": {
          "base_uri": "https://localhost:8080/"
        },
        "id": "76E9XXgFU23z",
        "outputId": "57aafd27-b221-4af3-a5bb-52d02e1e8f32"
      },
      "execution_count": null,
      "outputs": [
        {
          "output_type": "stream",
          "name": "stdout",
          "text": [
            "1\n",
            "3\n"
          ]
        }
      ]
    },
    {
      "cell_type": "code",
      "source": [
        "for i in 'python':\n",
        "    print(i)"
      ],
      "metadata": {
        "colab": {
          "base_uri": "https://localhost:8080/"
        },
        "id": "EyF_FubBVIlU",
        "outputId": "50e30763-1663-459c-9ffa-48e9c0d59c3c"
      },
      "execution_count": null,
      "outputs": [
        {
          "output_type": "stream",
          "name": "stdout",
          "text": [
            "p\n",
            "y\n",
            "t\n",
            "h\n",
            "o\n",
            "n\n"
          ]
        }
      ]
    },
    {
      "cell_type": "code",
      "source": [
        "for i in ['사과','바나나','포도']:\n",
        "   print(i)"
      ],
      "metadata": {
        "colab": {
          "base_uri": "https://localhost:8080/"
        },
        "id": "CblwHIrHawDR",
        "outputId": "935dc081-c3b2-461c-80cb-e2bd69a04061"
      },
      "execution_count": null,
      "outputs": [
        {
          "output_type": "stream",
          "name": "stdout",
          "text": [
            "사과\n",
            "바나나\n",
            "포도\n"
          ]
        }
      ]
    },
    {
      "cell_type": "code",
      "source": [
        "# range(5) == range(0,5,1) -> 0부터 4까지\n",
        "# range(1,6) == range(1,6,1) -> 1부터 5까지\n",
        "# range(0, 10, 2) == 짝수만\n",
        "# step에 역수를 쓸때에는 숫자인 경우에는 큰 숫자부터 적는 것을 권함 (문자는 상관없음)\n",
        "for i in range(10, 2, -1):\n",
        "    print(i)"
      ],
      "metadata": {
        "colab": {
          "base_uri": "https://localhost:8080/"
        },
        "id": "NeBx4vxDa7t4",
        "outputId": "1030a1fa-721d-4fec-d725-f2879cc67fce"
      },
      "execution_count": null,
      "outputs": [
        {
          "output_type": "stream",
          "name": "stdout",
          "text": [
            "10\n",
            "9\n",
            "8\n",
            "7\n",
            "6\n",
            "5\n",
            "4\n",
            "3\n"
          ]
        }
      ]
    },
    {
      "cell_type": "code",
      "source": [
        "# 누적합계 구하기\n",
        "\n",
        "total = 0\n",
        "for i in range(1, 11): #range(1,11) -> 1,2,3,4,5,6,7,8,9,10\n",
        "    total = total + i\n",
        "\n",
        "print(total)"
      ],
      "metadata": {
        "colab": {
          "base_uri": "https://localhost:8080/"
        },
        "id": "Mi3xjcySbt7P",
        "outputId": "566803fe-ab83-494c-d639-73920b4c1146"
      },
      "execution_count": null,
      "outputs": [
        {
          "output_type": "stream",
          "name": "stdout",
          "text": [
            "55\n"
          ]
        }
      ]
    },
    {
      "cell_type": "code",
      "source": [
        "# 누적합계 구하기\n",
        "\n",
        "total = 0\n",
        "for i in range(1, 11): #range(1,11) -> 1,2,3,4,5,6,7,8,9,10\n",
        "    total += i # total = total + i와 동일하다.\n",
        "\n",
        "print(total)"
      ],
      "metadata": {
        "colab": {
          "base_uri": "https://localhost:8080/"
        },
        "id": "kT_EOdLzdUZE",
        "outputId": "5bae2dd2-65a0-469b-8f3e-e7f5c51e59dc"
      },
      "execution_count": null,
      "outputs": [
        {
          "output_type": "stream",
          "name": "stdout",
          "text": [
            "55\n"
          ]
        }
      ]
    },
    {
      "cell_type": "code",
      "source": [
        "# 누적합계 구하기\n",
        "\n",
        "total = 0\n",
        "for i in range(1, 11): #range(1,11) -> 1,2,3,4,5,6,7,8,9,10\n",
        "    total =+ i # total = total + i와 동일하다.\n",
        "\n",
        "print(total)"
      ],
      "metadata": {
        "colab": {
          "base_uri": "https://localhost:8080/"
        },
        "id": "r5EsO4lmdfaG",
        "outputId": "9ef0fda3-7757-4ab3-f252-f4978fce2b50"
      },
      "execution_count": null,
      "outputs": [
        {
          "output_type": "stream",
          "name": "stdout",
          "text": [
            "10\n"
          ]
        }
      ]
    },
    {
      "cell_type": "code",
      "source": [
        "count = 0\n",
        "\n",
        "while count < 5:\n",
        "    print(f\"{count}번째 반복\")\n",
        "    count += 1"
      ],
      "metadata": {
        "colab": {
          "base_uri": "https://localhost:8080/"
        },
        "id": "dtl8o44JeCvu",
        "outputId": "07d3b122-16c0-4310-e89f-1dfbfe45e870"
      },
      "execution_count": null,
      "outputs": [
        {
          "output_type": "stream",
          "name": "stdout",
          "text": [
            "0번째 반복\n",
            "1번째 반복\n",
            "2번째 반복\n",
            "3번째 반복\n",
            "4번째 반복\n"
          ]
        }
      ]
    },
    {
      "cell_type": "code",
      "source": [
        "count = 0\n",
        "\n",
        "while count < 10:\n",
        "    print(f\"{count}번째 반복\")\n",
        "    count += 2"
      ],
      "metadata": {
        "colab": {
          "base_uri": "https://localhost:8080/"
        },
        "id": "wmqXqBv2fkU9",
        "outputId": "9e25df1a-0f78-4e92-973e-de2ecca70395"
      },
      "execution_count": null,
      "outputs": [
        {
          "output_type": "stream",
          "name": "stdout",
          "text": [
            "0번째 반복\n",
            "2번째 반복\n",
            "4번째 반복\n",
            "6번째 반복\n",
            "8번째 반복\n"
          ]
        }
      ]
    },
    {
      "cell_type": "code",
      "source": [
        "# break는 반복문을 자동으로 중지 시키는 구문 보통 if 조건문과 같이 사용된다.\n",
        "for i in range(10):\n",
        "    if i == 5:\n",
        "        break\n",
        "    print(i)"
      ],
      "metadata": {
        "colab": {
          "base_uri": "https://localhost:8080/"
        },
        "id": "go3X2pUYgQDg",
        "outputId": "0148a7ec-cdc7-4eb4-c39b-ba95cdfc9a44"
      },
      "execution_count": null,
      "outputs": [
        {
          "output_type": "stream",
          "name": "stdout",
          "text": [
            "0\n",
            "1\n",
            "2\n",
            "3\n",
            "4\n"
          ]
        }
      ]
    },
    {
      "cell_type": "code",
      "source": [
        "# coutinue는 특정 조건을 건너뛰는\n",
        "for i in range(10):\n",
        "    if i == 5:\n",
        "        continue\n",
        "    print(i)"
      ],
      "metadata": {
        "colab": {
          "base_uri": "https://localhost:8080/"
        },
        "id": "QNz5EomQhJsX",
        "outputId": "3cb86b4f-69a6-4dd4-ebae-b7349990be92"
      },
      "execution_count": null,
      "outputs": [
        {
          "output_type": "stream",
          "name": "stdout",
          "text": [
            "0\n",
            "1\n",
            "2\n",
            "3\n",
            "4\n",
            "6\n",
            "7\n",
            "8\n",
            "9\n"
          ]
        }
      ]
    },
    {
      "cell_type": "code",
      "source": [],
      "metadata": {
        "id": "LxgWQk7shehj"
      },
      "execution_count": null,
      "outputs": []
    }
  ]
}